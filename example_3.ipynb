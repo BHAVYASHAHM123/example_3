{
 "cells": [
  {
   "cell_type": "code",
   "execution_count": 2,
   "id": "0521aa06",
   "metadata": {},
   "outputs": [
    {
     "name": "stdout",
     "output_type": "stream",
     "text": [
      "Bhavya Anurag Ankit Avinash Ram\n"
     ]
    }
   ],
   "source": [
    "your_list=['Bhavya Anurag Ankit Avinash Ram Shyam Raj']\n",
    "stop_words=['Shyam','Raj' ]\n",
    "\n",
    "final_list=[]\n",
    "for i in your_list[0].split():\n",
    "    if i not in stop_words:\n",
    "        final_list.append(i)\n",
    "\n",
    "print(\" \".join(final_list))"
   ]
  },
  {
   "cell_type": "code",
   "execution_count": null,
   "id": "8201f032",
   "metadata": {},
   "outputs": [],
   "source": []
  }
 ],
 "metadata": {
  "kernelspec": {
   "display_name": "Python 3 (ipykernel)",
   "language": "python",
   "name": "python3"
  },
  "language_info": {
   "codemirror_mode": {
    "name": "ipython",
    "version": 3
   },
   "file_extension": ".py",
   "mimetype": "text/x-python",
   "name": "python",
   "nbconvert_exporter": "python",
   "pygments_lexer": "ipython3",
   "version": "3.9.7"
  }
 },
 "nbformat": 4,
 "nbformat_minor": 5
}
